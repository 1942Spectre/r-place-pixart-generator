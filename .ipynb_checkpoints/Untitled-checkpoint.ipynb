{
 "cells": [
  {
   "cell_type": "code",
   "execution_count": 1,
   "id": "8b560017-e446-46cf-8cfd-4465221c770f",
   "metadata": {},
   "outputs": [
    {
     "name": "stdout",
     "output_type": "stream",
     "text": [
      "Requirement already satisfied: numpy in c:\\users\\artemis\\.conda\\envs\\odin\\lib\\site-packages (1.19.2)\n",
      "Requirement already satisfied: matplotlib in c:\\users\\artemis\\.conda\\envs\\odin\\lib\\site-packages (3.5.0)\n",
      "Requirement already satisfied: pillow in c:\\users\\artemis\\.conda\\envs\\odin\\lib\\site-packages (9.1.0)\n",
      "Requirement already satisfied: packaging>=20.0 in c:\\users\\artemis\\.conda\\envs\\odin\\lib\\site-packages (from matplotlib) (21.0)\n",
      "Requirement already satisfied: python-dateutil>=2.7 in c:\\users\\artemis\\.conda\\envs\\odin\\lib\\site-packages (from matplotlib) (2.8.2)\n",
      "Requirement already satisfied: pyparsing>=2.2.1 in c:\\users\\artemis\\.conda\\envs\\odin\\lib\\site-packages (from matplotlib) (3.0.4)\n",
      "Requirement already satisfied: kiwisolver>=1.0.1 in c:\\users\\artemis\\.conda\\envs\\odin\\lib\\site-packages (from matplotlib) (1.3.2)\n",
      "Requirement already satisfied: cycler>=0.10 in c:\\users\\artemis\\.conda\\envs\\odin\\lib\\site-packages (from matplotlib) (0.11.0)\n",
      "Requirement already satisfied: fonttools>=4.22.0 in c:\\users\\artemis\\.conda\\envs\\odin\\lib\\site-packages (from matplotlib) (4.28.2)\n",
      "Requirement already satisfied: six>=1.5 in c:\\users\\artemis\\.conda\\envs\\odin\\lib\\site-packages (from python-dateutil>=2.7->matplotlib) (1.16.0)\n"
     ]
    },
    {
     "name": "stderr",
     "output_type": "stream",
     "text": [
      "WARNING: Ignoring invalid distribution -illow (c:\\users\\artemis\\.conda\\envs\\odin\\lib\\site-packages)\n",
      "WARNING: Ignoring invalid distribution -illow (c:\\users\\artemis\\.conda\\envs\\odin\\lib\\site-packages)\n",
      "WARNING: Ignoring invalid distribution -illow (c:\\users\\artemis\\.conda\\envs\\odin\\lib\\site-packages)\n",
      "WARNING: Ignoring invalid distribution -illow (c:\\users\\artemis\\.conda\\envs\\odin\\lib\\site-packages)\n",
      "WARNING: Ignoring invalid distribution -illow (c:\\users\\artemis\\.conda\\envs\\odin\\lib\\site-packages)\n",
      "WARNING: Ignoring invalid distribution -illow (c:\\users\\artemis\\.conda\\envs\\odin\\lib\\site-packages)\n"
     ]
    }
   ],
   "source": [
    "!pip install numpy matplotlib pillow"
   ]
  },
  {
   "cell_type": "code",
   "execution_count": 1,
   "id": "d447d0c3-a706-4e03-80fc-1fef28ce8c09",
   "metadata": {},
   "outputs": [],
   "source": [
    "import numpy as np"
   ]
  },
  {
   "cell_type": "code",
   "execution_count": 2,
   "id": "1d4d81e1-a076-41ef-b89f-24878de2f73e",
   "metadata": {},
   "outputs": [],
   "source": [
    "from PIL import Image"
   ]
  },
  {
   "cell_type": "code",
   "execution_count": 3,
   "id": "c64bd96e-9a00-4ffa-be36-a038693c7f73",
   "metadata": {},
   "outputs": [],
   "source": [
    "import matplotlib.pyplot as plt"
   ]
  },
  {
   "cell_type": "code",
   "execution_count": 81,
   "id": "389da7e5-5674-4426-9022-63e649d41af8",
   "metadata": {},
   "outputs": [],
   "source": [
    "def pooling(mat,ksize,method='max',pad=False):\n",
    "    '''Non-overlapping pooling on 2D or 3D data.\n",
    "\n",
    "    <mat>: ndarray, input array to pool.\n",
    "    <ksize>: tuple of 2, kernel size in (ky, kx).\n",
    "    <method>: str, 'max for max-pooling, \n",
    "                   'mean' for mean-pooling.\n",
    "    <pad>: bool, pad <mat> or not. If no pad, output has size\n",
    "           n//f, n being <mat> size, f being kernel size.\n",
    "           if pad, output has size ceil(n/f).\n",
    "\n",
    "    Return <result>: pooled matrix.\n",
    "    '''\n",
    "\n",
    "    m, n = mat.shape[:2]\n",
    "    ky,kx=ksize\n",
    "\n",
    "    _ceil=lambda x,y: int(np.ceil(x/float(y)))\n",
    "\n",
    "    if pad:\n",
    "        ny=_ceil(m,ky)\n",
    "        nx=_ceil(n,kx)\n",
    "        size=(ny*ky, nx*kx)+mat.shape[2:]\n",
    "        mat_pad=np.full(size,np.nan)\n",
    "        mat_pad[:m,:n,...]=mat\n",
    "    else:\n",
    "        ny=m//ky\n",
    "        nx=n//kx\n",
    "        mat_pad=mat[:ny*ky, :nx*kx, ...]\n",
    "\n",
    "    new_shape=(ny,ky,nx,kx)+mat.shape[2:]\n",
    "\n",
    "    if method=='max':\n",
    "        result=np.nanmax(mat_pad.reshape(new_shape),axis=(1,3))\n",
    "    else:\n",
    "        result=np.nanmean(mat_pad.reshape(new_shape),axis=(1,3))\n",
    "\n",
    "    return result"
   ]
  },
  {
   "cell_type": "code",
   "execution_count": 4,
   "id": "16b2a75e-4b99-4394-8c96-f1c992477b0f",
   "metadata": {},
   "outputs": [],
   "source": [
    "def get_color(pixel):\n",
    "    colors = [np.array((109, 0, 26)),\n",
    "              np.array((190, 0, 57)),\n",
    "              np.array((255, 69, 0)),\n",
    "              np.array((255, 168, 0)),\n",
    "              np.array((255, 214, 53)),\n",
    "              np.array((255, 248, 184)),\n",
    "              np.array((0, 163, 104)),\n",
    "              np.array((0, 204, 120)),\n",
    "              np.array((126, 237, 86)),\n",
    "              np.array((0, 117, 111)),\n",
    "              np.array((0, 158, 170)),\n",
    "              np.array((0, 204, 192)),\n",
    "              np.array((36, 80, 164)),\n",
    "              np.array((54, 144, 234)),\n",
    "              np.array((81, 233, 244)),\n",
    "              np.array((73, 58, 193)),\n",
    "              np.array((106, 92, 255)),\n",
    "              np.array((148, 179, 255)),\n",
    "              np.array((129, 30, 159)),\n",
    "              np.array((180, 74, 192)),\n",
    "              np.array((228, 171, 255)),\n",
    "              np.array((222, 16, 127)),\n",
    "              np.array((255, 56, 129)),\n",
    "              np.array((255, 153, 170)),\n",
    "              np.array((109, 72, 47)),\n",
    "              np.array((156, 105, 38)),\n",
    "              np.array((255, 180, 112)),\n",
    "              np.array((0, 0, 0)),\n",
    "              np.array((81, 82, 82)),\n",
    "              np.array((137, 141, 144)),\n",
    "              np.array((212, 215, 217)),\n",
    "              np.array((255, 255, 255))\n",
    "             ]\n",
    "    min_dist = 999999\n",
    "    min_idx = 0\n",
    "    for i in range(len(colors)):\n",
    "        if sum( np.abs(pixel - colors[i])) < min_dist:\n",
    "            min_idx = i\n",
    "            min_dist = sum( np.abs(pixel - colors[i]))\n",
    "            \n",
    "    return colors[min_idx]"
   ]
  },
  {
   "cell_type": "code",
   "execution_count": 86,
   "id": "361f3ab1-40b8-466b-bd8c-04be9a52e9f0",
   "metadata": {},
   "outputs": [],
   "source": [
    "def generate_pixart(sizex,sizey):\n",
    "    image = Image.open(\"image.jpg\")\n",
    "    image = pooling(np.array(image),(15,15),method=\"mean\",pad=True)\n",
    "    image = Image.fromarray(image)\n",
    "    image_resized = image.resize((sizex,sizey))\n",
    "    image_resized = np.array(image_resized)\n",
    "    new_image = image_resized.copy()\n",
    "    for i in range(image_resized.shape[0]):\n",
    "        for j in range(image_resized.shape[1]):\n",
    "            pixel = image_resized[i,j,:]\n",
    "            new_pixel = get_color(pixel)\n",
    "            new_image[i,j] = new_pixel\n",
    "    plt.imsave(\"output_image.png\",new_image)"
   ]
  },
  {
   "cell_type": "code",
   "execution_count": null,
   "id": "1f4377e3-1b27-44c8-ac30-a6641715c6f2",
   "metadata": {},
   "outputs": [],
   "source": [
    "generate_pixart(200,200)"
   ]
  },
  {
   "cell_type": "code",
   "execution_count": null,
   "id": "3d2f223e-3f97-4ef3-ac34-e1ba9759b7a8",
   "metadata": {},
   "outputs": [],
   "source": []
  }
 ],
 "metadata": {
  "kernelspec": {
   "display_name": "Python 3 (ipykernel)",
   "language": "python",
   "name": "python3"
  },
  "language_info": {
   "codemirror_mode": {
    "name": "ipython",
    "version": 3
   },
   "file_extension": ".py",
   "mimetype": "text/x-python",
   "name": "python",
   "nbconvert_exporter": "python",
   "pygments_lexer": "ipython3",
   "version": "3.7.11"
  }
 },
 "nbformat": 4,
 "nbformat_minor": 5
}
